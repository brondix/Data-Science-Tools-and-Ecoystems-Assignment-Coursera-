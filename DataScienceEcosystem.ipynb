{
 "cells": [
  {
   "cell_type": "markdown",
   "id": "f62c04c5-c54b-4510-9616-5928c67ede3b",
   "metadata": {},
   "source": [
    "# Data Science Tools and Ecosystems"
   ]
  },
  {
   "cell_type": "markdown",
   "id": "264838a4-fc48-4c1b-98a6-ef1c728d7723",
   "metadata": {},
   "source": [
    "## Author\n",
    "Philip Budgen"
   ]
  },
  {
   "cell_type": "markdown",
   "id": "7cfe07fe-8135-487a-b361-e880b5888144",
   "metadata": {},
   "source": [
    "In this notebook, Data Science Tools and Ecosystem are summarised."
   ]
  },
  {
   "cell_type": "markdown",
   "id": "4ddd2027-3a45-483f-a2c9-65e76e6629b5",
   "metadata": {},
   "source": [
    "**Objectives:**\n",
    "* Popular languages in Data Science\n",
    "* Common libraries in Data Science\n",
    "* Data Science tools\n",
    "* Examples of arithmetic"
   ]
  },
  {
   "cell_type": "markdown",
   "id": "4afa601d-9934-4b89-9f7c-edb6a1068077",
   "metadata": {},
   "source": [
    "Some of the popular languages used in Data Science:\n",
    "1. Python\n",
    "2. R\n",
    "3. SQL\n",
    "4. Scala\n",
    "5. Java\n",
    "6. C++"
   ]
  },
  {
   "cell_type": "markdown",
   "id": "604abdc7-6e52-4887-8e42-a041f2ea43d1",
   "metadata": {},
   "source": [
    "Some of the common libraries used in Data Science:\n",
    "1. Scientific libraries\n",
    "    * Pandas\n",
    "    * NumPy\n",
    "2. Visualisation libraries\n",
    "    * Matplotlib\n",
    "    * Seaborn\n",
    "3. Machine Learning libraries\n",
    "    * Scikit-learn\n",
    "    * Keras\n",
    "4. Deep Learning Libraries in Py\n",
    "    * TensorFlow\n",
    "    * PyTorch"
   ]
  },
  {
   "cell_type": "markdown",
   "id": "087a474b-589c-421f-850d-adafd5bba3fd",
   "metadata": {},
   "source": [
    "|Data Science Tools|\n",
    "|------------------|\n",
    "|Jupyter Notebook|\n",
    "|RStudio|\n",
    "|VSCode|\n"
   ]
  },
  {
   "cell_type": "markdown",
   "id": "4ffc1529-632e-41d4-8d49-0f29ffff6a86",
   "metadata": {},
   "source": [
    "### Below are a few examples of evaluating arithmetic expressions in Python"
   ]
  },
  {
   "cell_type": "code",
   "execution_count": null,
   "id": "f5e86fdc-3674-44e3-be72-00b9524da401",
   "metadata": {},
   "outputs": [],
   "source": [
    "print(\"This is a simple arithmetic expression to multiply then add integers\")\n",
    "(3*4)+5"
   ]
  },
  {
   "cell_type": "code",
   "execution_count": 5,
   "id": "6ddcaf46-4b10-4fbb-83c2-fd1f253e4f2b",
   "metadata": {},
   "outputs": [
    {
     "name": "stdout",
     "output_type": "stream",
     "text": [
      "This will convert 200 minutes to hours by dividing by 60\n"
     ]
    },
    {
     "data": {
      "text/plain": [
       "3.3333333333333335"
      ]
     },
     "execution_count": 5,
     "metadata": {},
     "output_type": "execute_result"
    }
   ],
   "source": [
    "print(\"This will convert 200 minutes to hours by dividing by 60\")\n",
    "200/60"
   ]
  },
  {
   "cell_type": "code",
   "execution_count": null,
   "id": "ddf9accb-40a3-455d-9c6d-06e901c8323c",
   "metadata": {},
   "outputs": [],
   "source": []
  }
 ],
 "metadata": {
  "kernelspec": {
   "display_name": "Python [conda env:base] *",
   "language": "python",
   "name": "conda-base-py"
  },
  "language_info": {
   "codemirror_mode": {
    "name": "ipython",
    "version": 3
   },
   "file_extension": ".py",
   "mimetype": "text/x-python",
   "name": "python",
   "nbconvert_exporter": "python",
   "pygments_lexer": "ipython3",
   "version": "3.13.5"
  }
 },
 "nbformat": 4,
 "nbformat_minor": 5
}
